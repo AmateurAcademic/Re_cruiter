{
 "cells": [
  {
   "cell_type": "markdown",
   "metadata": {},
   "source": [
    "# 2. Classifier: Recruiter Or Not?"
   ]
  },
  {
   "cell_type": "markdown",
   "metadata": {},
   "source": [
    "After having run 01_recruiter_collect_mails run this to classify the recruiter mails with the pre-trained classifier.\n",
    "<div class=\"alert alert-danger\"><b>!IMPORTANT!</b> Sklearn version '0.21.3' must be installed, either install it here or in your environment</div>\n",
    "<div class=\"alert alert-danger\"><b>!IMPORTANT!</b> Make sure to install ipysheet correctly before running</div>"
   ]
  },
  {
   "cell_type": "markdown",
   "metadata": {},
   "source": [
    "## 2.1 Load dependencies and dataset"
   ]
  },
  {
   "cell_type": "markdown",
   "metadata": {},
   "source": [
    " For the spreadsheet magic we will need..."
   ]
  },
  {
   "cell_type": "code",
   "execution_count": null,
   "metadata": {},
   "outputs": [],
   "source": [
    "!pip install ipysheet"
   ]
  },
  {
   "cell_type": "markdown",
   "metadata": {},
   "source": [
    "If you role with jupyter lab like I do you need to: "
   ]
  },
  {
   "cell_type": "code",
   "execution_count": null,
   "metadata": {},
   "outputs": [],
   "source": [
    "!jupyter labextension install @jupyter-widgets/jupyterlab-manager\n",
    "!jupyter labextension install ipysheet"
   ]
  },
  {
   "cell_type": "markdown",
   "metadata": {},
   "source": [
    "<div class=\"alert alert-info\"><b>for JupyterLab users</b>: horizontal scroll of ipysheets/ipwidgets doesn't work correctly in the standard view\n",
    "(displaying anything wider than the output area will result in truncated output that isn't horizontally scrollable),\n",
    "I recommend that you use \"Create New View for Output\" when these widgets are needed</div>"
   ]
  },
  {
   "cell_type": "code",
   "execution_count": null,
   "metadata": {},
   "outputs": [],
   "source": [
    "import pandas as pd\n",
    "import numpy as np\n",
    "import pickle\n",
    "import json\n",
    "from sklearn.feature_extraction.text import TfidfVectorizer\n",
    "from sklearn.feature_extraction.text import CountVectorizer\n",
    "from sklearn import svm\n",
    "import ipysheet"
   ]
  },
  {
   "cell_type": "code",
   "execution_count": null,
   "metadata": {},
   "outputs": [],
   "source": [
    "# Load your set of emails from 01_recruiter_collect_emails.ipynb here with the correct file name\n",
    "test_set = json.load(open('files/hide/scraped_mails.json'))\n",
    "test_set_df = pd.DataFrame(test_set)"
   ]
  },
  {
   "cell_type": "markdown",
   "metadata": {},
   "source": [
    "To run the dummy dataset instead uncomment the following two lines:"
   ]
  },
  {
   "cell_type": "code",
   "execution_count": null,
   "metadata": {},
   "outputs": [],
   "source": [
    "#test_set_df = pd.read_csv('files/dummy_data/job_email_examples.csv', usecols = ['name', 'email', 'subject', 'domain', 'firstname', 'lastname', 'language', 'date', 'message_cleaned'])\n",
    "#test_set_df.rename(columns={'message_cleaned': 'message'}, inplace=True)"
   ]
  },
  {
   "cell_type": "code",
   "execution_count": null,
   "metadata": {},
   "outputs": [],
   "source": [
    "# Let's get that date data into a nice column\n",
    "# Skip for job_email_examples as test_set\n",
    "test_set_df['date'] = test_set_df['date'].apply(lambda x: ','.join(map(str, x[0:3])))\n",
    "test_set_df['date'] = pd.to_datetime(test_set_df['date'], format='%Y,%m,%d')"
   ]
  },
  {
   "cell_type": "code",
   "execution_count": null,
   "metadata": {},
   "outputs": [],
   "source": [
    "# Drop duplicate emails by subject, this works well for sparse datasets or where there isn't such exact title and location overlap.. \n",
    "# If there is such an overlap, it is best to hold off and just drop them once we have a structured dataset in 02.1\n",
    "test_set_df.drop_duplicates(subset='subject', keep='first', inplace=True)"
   ]
  },
  {
   "cell_type": "code",
   "execution_count": null,
   "metadata": {},
   "outputs": [],
   "source": [
    "# Optional: Are there any dates missing you think?\n",
    "test_set_df['date'].unique()"
   ]
  },
  {
   "cell_type": "markdown",
   "metadata": {},
   "source": [
    "## 2.2 Classify the data"
   ]
  },
  {
   "cell_type": "markdown",
   "metadata": {},
   "source": [
    "Ohhhh, machine learning!"
   ]
  },
  {
   "cell_type": "code",
   "execution_count": null,
   "metadata": {},
   "outputs": [],
   "source": [
    "vectorizer = TfidfVectorizer(vocabulary=pickle.load(open(\"files/vectorizer.pickle\", \"rb\")))\n",
    "X = vectorizer.fit_transform(test_set_df.subject)"
   ]
  },
  {
   "cell_type": "code",
   "execution_count": null,
   "metadata": {},
   "outputs": [],
   "source": [
    "model = pickle.load(open(\"files/SVM_recruiter_model.pickle\", 'rb'))"
   ]
  },
  {
   "cell_type": "code",
   "execution_count": null,
   "metadata": {},
   "outputs": [],
   "source": [
    "def predict_labels(clf, features):\n",
    "    return(clf.predict(features))"
   ]
  },
  {
   "cell_type": "code",
   "execution_count": null,
   "metadata": {},
   "outputs": [],
   "source": [
    "y_pred = predict_labels(model, X)\n",
    "test_set_df['prediction'] = y_pred"
   ]
  },
  {
   "cell_type": "markdown",
   "metadata": {},
   "source": [
    "## 2.3 Filter results and ground truth"
   ]
  },
  {
   "cell_type": "markdown",
   "metadata": {},
   "source": [
    "We are not interested in job-based emails from platforms but they will be predicted as recruiter mails so we need to filter them.\n",
    "We will want to also ground truth the results"
   ]
  },
  {
   "cell_type": "markdown",
   "metadata": {},
   "source": [
    "Filter\n",
    "\n",
    "Feel free to add a domain if this does not cover all of the false positives in your dataset."
   ]
  },
  {
   "cell_type": "code",
   "execution_count": null,
   "metadata": {},
   "outputs": [],
   "source": [
    "test_set_df['class'] = np.nan\n",
    "is_predicted = (test_set_df['prediction'] == 1)\n",
    "not_predicted = (test_set_df['prediction'] == 0)\n",
    "is_empty = (test_set_df['class'].isna())\n",
    "is_commercial = (test_set_df['domain'].isin(['linkedin.com', 'glassdoor.com', 'medium.com', 'quora.com', 'datacamp.com']))\n",
    "\n",
    "test_set_df.loc[is_empty & is_commercial, 'class'] = 0\n",
    "test_set_df.loc[is_predicted & is_empty & ~is_commercial, 'class'] = 1\n",
    "test_set_df.loc[not_predicted & is_empty, 'class'] = 0"
   ]
  },
  {
   "cell_type": "markdown",
   "metadata": {},
   "source": [
    "Review the recruiter mails\n",
    "\n",
    "Click on change class for the ones that should be non-recruiter\n",
    "\n",
    "<div class=\"alert alert-danger\"><b>!IMPORTANT!</b>If the mail is a reply or otherwise isn't an initial offer/ad for a job, it shouldn't be in the recruiter_df!</div"
   ]
  },
  {
   "cell_type": "code",
   "execution_count": null,
   "metadata": {},
   "outputs": [],
   "source": [
    "recruiter_df = test_set_df[test_set_df['class'] == 1].copy()\n",
    "recruiter_df.loc[:, 'name'] = recruiter_df.loc[:, 'name'].str[:15]\n",
    "recruiter_df.loc[:,'subject'] = recruiter_df.loc[:,'subject'].str[:100]\n",
    "recruiter_df = recruiter_df.assign(change_class=None)\n",
    "recruiter_df['change_class'] = recruiter_df['change_class'].astype(bool)\n",
    "recruiter_df.drop(['email', 'message', 'language', 'date', 'firstname', 'lastname', 'domain', 'prediction'], axis=1, inplace=True)\n",
    "recruiter_sheet = ipysheet.from_dataframe(recruiter_df)\n",
    "recruiter_sheet.layout.height = '600px'\n",
    "recruiter_sheet\n"
   ]
  },
  {
   "cell_type": "markdown",
   "metadata": {},
   "source": [
    "Turn the sheet back into a df\n",
    "\n",
    "If a row is marked in the sheet with a checkbox, change the class"
   ]
  },
  {
   "cell_type": "code",
   "execution_count": null,
   "metadata": {},
   "outputs": [],
   "source": [
    "recruiter_df = ipysheet.to_dataframe(recruiter_sheet)\n",
    "recruiter_df.loc[recruiter_df['change_class'] == True, 'class'] = 0\n",
    "# NOTE: ipysheet messes up the index turning it into strings\n",
    "recruiter_df.index = pd.to_numeric(recruiter_df.index)\n",
    "recruiter_incorrect = (recruiter_df['change_class'].sum()/len(recruiter_df))\n",
    "print(\"The percentage of false positive classifications is\", \"{0:.0%}\".format(recruiter_incorrect))"
   ]
  },
  {
   "cell_type": "markdown",
   "metadata": {},
   "source": [
    "<div class=\"alert alert-danger\"><b>!IMPORTANT!</b> For job_email_examples as test_set, all of the mails are recruiters. Uncomment the codeblock below, run and go directly to 2.4</div>"
   ]
  },
  {
   "cell_type": "code",
   "execution_count": null,
   "metadata": {},
   "outputs": [],
   "source": [
    "#ground_truth_recruiter_df = test_set_df\n",
    "#ground_truth_recruiter_df['class'] = ground_truth_recruiter_df['prediction']"
   ]
  },
  {
   "cell_type": "markdown",
   "metadata": {},
   "source": [
    "Review the non-recruiter mails\n",
    "\n",
    "Click on change class for the ones that should be recruiter\n",
    "\n",
    "<div class=\"alert alert-danger\"><b>!IMPORTANT!</b>If the mail is a reply or otherwise isn't an initial offer/ad for a job, it shouldn't be in the recruiter_df!</div>"
   ]
  },
  {
   "cell_type": "code",
   "execution_count": null,
   "metadata": {},
   "outputs": [],
   "source": [
    "non_recruiter_df = test_set_df[test_set_df['class'] == 0].copy()\n",
    "non_recruiter_df.loc[:, 'name'] = non_recruiter_df.loc[:, 'name'].str[:15]\n",
    "non_recruiter_df.loc[:,'subject'] = non_recruiter_df.loc[:,'subject'].str[:100]\n",
    "non_recruiter_df = non_recruiter_df.assign(change_class=None)\n",
    "non_recruiter_df['change_class'] = non_recruiter_df['change_class'].astype(bool)\n",
    "non_recruiter_df.drop(['email', 'message', 'language', 'date', 'firstname', 'lastname', 'domain', 'prediction'], axis=1, inplace=True)\n",
    "non_recruiter_sheet = ipysheet.from_dataframe(non_recruiter_df)\n",
    "non_recruiter_sheet.layout.height = '600px'\n",
    "non_recruiter_sheet"
   ]
  },
  {
   "cell_type": "markdown",
   "metadata": {},
   "source": [
    "Turn the sheet back into a df"
   ]
  },
  {
   "cell_type": "code",
   "execution_count": null,
   "metadata": {},
   "outputs": [],
   "source": [
    "non_recruiter_df = ipysheet.to_dataframe(non_recruiter_sheet)\n",
    "non_recruiter_df.loc[non_recruiter_df['change_class'] == True, 'class'] = 1\n",
    "# NOTE: ipysheet messes up the index turning it into strings\n",
    "non_recruiter_df.index = pd.to_numeric(non_recruiter_df.index)\n",
    "non_recruiter_incorrect = (non_recruiter_df['change_class'].sum()/len(non_recruiter_df))\n",
    "print(\"The percentage of false negative classifications is\", \"{0:.0%}\".format(non_recruiter_incorrect))"
   ]
  },
  {
   "cell_type": "code",
   "execution_count": null,
   "metadata": {},
   "outputs": [],
   "source": [
    "changes_df = pd.concat([recruiter_df, non_recruiter_df])\n",
    "changes_df.drop(['name', 'subject', 'change_class'], axis=1, inplace=True)"
   ]
  },
  {
   "cell_type": "code",
   "execution_count": null,
   "metadata": {},
   "outputs": [],
   "source": [
    "test_set_df.drop(['class'], axis=1, inplace=True)\n",
    "ground_truth_df = pd.concat([test_set_df, changes_df], axis=1)"
   ]
  },
  {
   "cell_type": "code",
   "execution_count": null,
   "metadata": {},
   "outputs": [],
   "source": [
    "ground_truth_recruiter_df = ground_truth_df[ground_truth_df['class'] == 1].copy()"
   ]
  },
  {
   "cell_type": "markdown",
   "metadata": {},
   "source": [
    "## 2.4 Export data"
   ]
  },
  {
   "cell_type": "markdown",
   "metadata": {},
   "source": [
    "Optional: Have one last look to make sure its good"
   ]
  },
  {
   "cell_type": "code",
   "execution_count": null,
   "metadata": {},
   "outputs": [],
   "source": [
    "ground_truth_recruiter_df"
   ]
  },
  {
   "cell_type": "code",
   "execution_count": null,
   "metadata": {},
   "outputs": [],
   "source": [
    "ground_truth_recruiter_df.to_csv(r'files/ground_truth_recruiter_df.csv', index=False)"
   ]
  },
  {
   "cell_type": "markdown",
   "metadata": {},
   "source": [
    "### On to <a href=\"./03_recruiter_NER.ipynb\">03_recruiter_NER…</a>"
   ]
  }
 ],
 "metadata": {
  "kernelspec": {
   "display_name": "Python 3",
   "language": "python",
   "name": "python3"
  },
  "language_info": {
   "codemirror_mode": {
    "name": "ipython",
    "version": 3
   },
   "file_extension": ".py",
   "mimetype": "text/x-python",
   "name": "python",
   "nbconvert_exporter": "python",
   "pygments_lexer": "ipython3",
   "version": "3.7.4"
  }
 },
 "nbformat": 4,
 "nbformat_minor": 4
}
