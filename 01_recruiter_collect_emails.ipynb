{
 "cells": [
  {
   "cell_type": "markdown",
   "metadata": {},
   "source": [
    "# 1. Collect Emails\n",
    "The first step is to scrape your emails to find any recruiter emails."
   ]
  },
  {
   "cell_type": "markdown",
   "metadata": {},
   "source": [
    "## 1.1 Load dependencies"
   ]
  },
  {
   "cell_type": "code",
   "execution_count": null,
   "metadata": {},
   "outputs": [],
   "source": [
    "import getpass\n",
    "from lib.Mailer import Mailer"
   ]
  },
  {
   "cell_type": "markdown",
   "metadata": {},
   "source": [
    "## 1.2 Login to mailbox"
   ]
  },
  {
   "cell_type": "markdown",
   "metadata": {},
   "source": [
    "You should probably check the `Mailer` library to make sure we don't steal your credentials! ;) <br>\n",
    "If you have Gmail you need to *TEMPORARILY* turn on \"less secure access\": https://support.google.com/accounts/answer/6010255"
   ]
  },
  {
   "cell_type": "code",
   "execution_count": null,
   "metadata": {},
   "outputs": [],
   "source": [
    "username = input(\"Full email address:\")\n",
    "print('Please provide password:')\n",
    "password = getpass.getpass()\n",
    "credentials = {'username': username, 'password': password}"
   ]
  },
  {
   "cell_type": "markdown",
   "metadata": {},
   "source": [
    "## 1.3 Setup MailHandler"
   ]
  },
  {
   "cell_type": "code",
   "execution_count": null,
   "metadata": {},
   "outputs": [],
   "source": [
    "MailHandler = Mailer('scrape', inbound='imap.gmail.com', outbound='smtp.gmail.com', **credentials)"
   ]
  },
  {
   "cell_type": "markdown",
   "metadata": {},
   "source": [
    "## 1.4 Run MailHandler"
   ]
  },
  {
   "cell_type": "markdown",
   "metadata": {},
   "source": [
    "Add a cut off date (it will run as far back as the cut off date) or put in `False` for none <br>Date format: `01-Jan-2019` or `08-Apr-2020`"
   ]
  },
  {
   "cell_type": "code",
   "execution_count": null,
   "metadata": {},
   "outputs": [],
   "source": [
    "MAIL_CUTOFF_DATE = '28-May-2020'"
   ]
  },
  {
   "cell_type": "markdown",
   "metadata": {},
   "source": [
    "Change the folder you want to get the emails from (_INBOX_, _work_, etc.)<br>\n",
    "Optionally use an integer for the **limit** parameter to restrict the number of emails"
   ]
  },
  {
   "cell_type": "code",
   "execution_count": null,
   "metadata": {},
   "outputs": [],
   "source": [
    "MailHandler.collect_emails(folder='INBOX', cutoff_date=MAIL_CUTOFF_DATE, limit=False)"
   ]
  },
  {
   "cell_type": "code",
   "execution_count": null,
   "metadata": {},
   "outputs": [],
   "source": [
    "MailHandler.save_emails('files/hide/scraped_mails')"
   ]
  },
  {
   "cell_type": "markdown",
   "metadata": {},
   "source": [
    "Optional final check to ensure it didn't mess anything up"
   ]
  },
  {
   "cell_type": "code",
   "execution_count": null,
   "metadata": {},
   "outputs": [],
   "source": [
    "MailHandler.emails"
   ]
  },
  {
   "cell_type": "markdown",
   "metadata": {},
   "source": [
    "### And now on to classification with <a href=\"./02_recruiter_classifier.ipynb\">02_recruiter_classifier…</a>"
   ]
  }
 ],
 "metadata": {
  "kernelspec": {
   "display_name": "recruiter",
   "language": "python",
   "name": "recruiter"
  },
  "language_info": {
   "codemirror_mode": {
    "name": "ipython",
    "version": 3
   },
   "file_extension": ".py",
   "mimetype": "text/x-python",
   "name": "python",
   "nbconvert_exporter": "python",
   "pygments_lexer": "ipython3",
   "version": "3.7.6"
  }
 },
 "nbformat": 4,
 "nbformat_minor": 4
}
