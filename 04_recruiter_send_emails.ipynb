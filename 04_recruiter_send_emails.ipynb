{
 "cells": [
  {
   "cell_type": "markdown",
   "metadata": {},
   "source": [
    "# 4. Send Emails \n",
    "### This is called Re:Cruiter, so we should send responses back to recruiters"
   ]
  },
  {
   "cell_type": "markdown",
   "metadata": {},
   "source": [
    "### Once you have your df of recruiter emails and you setup your reply templates in `email_templates.py` you can send out emails. \n",
    "### !!!BE SUPER CAREFUL!!! First send it to yourself by using the `test_to_mail.json` and make sure it looks right. \n",
    "### Don't accidently send out a bunch of spam! "
   ]
  },
  {
   "cell_type": "markdown",
   "metadata": {},
   "source": [
    "## 4.1 Load dependencies"
   ]
  },
  {
   "cell_type": "code",
   "execution_count": null,
   "metadata": {},
   "outputs": [],
   "source": [
    "import time\n",
    "import getpass\n",
    "from random import randrange\n",
    "import pydash as _\n",
    "import pickle\n",
    "\n",
    "from lib.Mailer import Mailer, MailTemplate"
   ]
  },
  {
   "cell_type": "markdown",
   "metadata": {},
   "source": [
    "# 4.2 Login to email"
   ]
  },
  {
   "cell_type": "markdown",
   "metadata": {},
   "source": [
    "You should probably check the 'Mailer' library to make sure we don't steal your credentials! ;)\n",
    "\n",
    "\n",
    "If you have Gmail you need to *TEMPORARILY* turn on \"less secure access\": https://support.google.com/accounts/answer/6010255"
   ]
  },
  {
   "cell_type": "code",
   "execution_count": null,
   "metadata": {
    "scrolled": true
   },
   "outputs": [],
   "source": [
    "username = input(\"Full email address:\")\n",
    "print('Please provide password:')\n",
    "password = getpass.getpass()"
   ]
  },
  {
   "cell_type": "markdown",
   "metadata": {},
   "source": [
    "# 4.3 Setup mailHandler"
   ]
  },
  {
   "cell_type": "code",
   "execution_count": null,
   "metadata": {},
   "outputs": [],
   "source": [
    "MailHandler = Mailer('recruiters', inbound='imap.gmail.com', outbound='smtp.gmail.com', username=username, password=password)"
   ]
  },
  {
   "cell_type": "markdown",
   "metadata": {},
   "source": [
    "Load the processed recruiter mails from the previous notebook here, edit the 'test_to_mail.json' file with your own email address to test it first!"
   ]
  },
  {
   "cell_type": "code",
   "execution_count": null,
   "metadata": {},
   "outputs": [],
   "source": [
    "MailHandler.load_emails('files/hide/processed_recruiter_mails')"
   ]
  },
  {
   "cell_type": "markdown",
   "metadata": {},
   "source": [
    "# 4.4 Send replies"
   ]
  },
  {
   "cell_type": "markdown",
   "metadata": {},
   "source": [
    "### This is where you should be careful\n",
    "Make sure to test this before sending emails to everyone!\n",
    "\n",
    "You can do all kinds of stuff with this, here as an example we have sorted by language and whether it is an interesting role or not... but you could really make as many templates as you like, and even include more personal responses in the `email_templates.py` besides `#{firstname}`. "
   ]
  },
  {
   "cell_type": "code",
   "execution_count": null,
   "metadata": {},
   "outputs": [],
   "source": [
    "limit = 5\n",
    "\n",
    "for email in MailHandler:\n",
    "    limit -= 1\n",
    "    \n",
    "    if limit > 0:    \n",
    "        sendData = {\n",
    "            'from':    'bartmoss.bs@gmail.com',\n",
    "            'to':       email['email']\n",
    "            'subject': 'Re: ' + email['subject'],\n",
    "            'firstname': email['firstname'],\n",
    "            'lastname': email['lastname'],\n",
    "            'files': ['files/hide/CV_(four_page_AI_management).pdf']\n",
    "        }\n",
    "\n",
    "        language = 'en'\n",
    "        if email['language'] == 'de':\n",
    "            language = 'de'\n",
    "        \n",
    "        reply = 'uninterested'\n",
    "        if email['reply'] ==  'interested':\n",
    "            reply = 'interested'\n",
    "            \n",
    "        if sendData['to'] not in MailHandler.already_sent_emails:\n",
    "            renderedMail = MailTemplate(f'{language}.{reply}', sendData).rendered\n",
    "            MailHandler.send_email(renderedMail, sendData)\n",
    "            time.sleep(randrange(5, 10))\n",
    "        else:\n",
    "            print('Skipping %s. Already sent.' % email['email'])"
   ]
  },
  {
   "cell_type": "markdown",
   "metadata": {},
   "source": [
    "Make sure to save the state, this way you won't accidently send an email to the same person twice on multiple runs"
   ]
  },
  {
   "cell_type": "code",
   "execution_count": null,
   "metadata": {},
   "outputs": [],
   "source": [
    "MailHandler.save_sent_emails()"
   ]
  },
  {
   "cell_type": "markdown",
   "metadata": {},
   "source": [
    "### I hope you enjoyed the Re:cruiter prototype NLP recipe and it is useful to you. I am curious what you do with it, so let me know! :)"
   ]
  }
 ],
 "metadata": {
  "kernelspec": {
   "display_name": "Python 3",
   "language": "python",
   "name": "python3"
  },
  "language_info": {
   "codemirror_mode": {
    "name": "ipython",
    "version": 3
   },
   "file_extension": ".py",
   "mimetype": "text/x-python",
   "name": "python",
   "nbconvert_exporter": "python",
   "pygments_lexer": "ipython3",
   "version": "3.7.4"
  }
 },
 "nbformat": 4,
 "nbformat_minor": 4
}
